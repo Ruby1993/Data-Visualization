{
 "cells": [
  {
   "cell_type": "code",
   "execution_count": 1,
   "metadata": {
    "collapsed": true
   },
   "outputs": [],
   "source": [
    "import folium\n",
    "import pandas as pd\n",
    "import numpy as np\n",
    "import datetime"
   ]
  },
  {
   "cell_type": "code",
   "execution_count": 2,
   "metadata": {},
   "outputs": [
    {
     "data": {
      "text/plain": [
       "<folium.features.CircleMarker at 0x1153166d8>"
      ]
     },
     "execution_count": 2,
     "metadata": {},
     "output_type": "execute_result"
    }
   ],
   "source": [
    "folium_map = folium.Map(location=[40.724, -74.08],\n",
    "                        zoom_start=13,\n",
    "                        tiles=\"CartoDB dark_matter\")\n",
    "marker = folium.CircleMarker(location=[40.724, -74.08])\n",
    "marker.add_to(folium_map)\n",
    "#40.724605\t-74.078406"
   ]
  },
  {
   "cell_type": "code",
   "execution_count": 21,
   "metadata": {},
   "outputs": [
    {
     "data": {
      "text/html": [
       "<div style=\"width:100%;\"><div style=\"position:relative;width:100%;height:0;padding-bottom:60%;\"><iframe src=\"data:text/html;charset=utf-8;base64,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\" style=\"position:absolute;width:100%;height:100%;left:0;top:0;border:none !important;\" allowfullscreen webkitallowfullscreen mozallowfullscreen></iframe></div></div>"
      ],
      "text/plain": [
       "<folium.folium.Map at 0x10db14c18>"
      ]
     },
     "execution_count": 21,
     "metadata": {},
     "output_type": "execute_result"
    }
   ],
   "source": [
    "folium_map"
   ]
  },
  {
   "cell_type": "code",
   "execution_count": 3,
   "metadata": {
    "collapsed": true
   },
   "outputs": [],
   "source": [
    "#folium_map.save(\"my_map.html\")"
   ]
  },
  {
   "cell_type": "code",
   "execution_count": 73,
   "metadata": {
    "collapsed": true
   },
   "outputs": [],
   "source": [
    "subway_data=pd.read_csv('turnstile_160514.csv')"
   ]
  },
  {
   "cell_type": "code",
   "execution_count": 88,
   "metadata": {},
   "outputs": [
    {
     "data": {
      "text/plain": [
       "array(['59 ST', '5 AV/59 ST', '57 ST-7 AV', '49 ST', 'TIMES SQ-42 ST',\n",
       "       '34 ST-HERALD SQ', '28 ST', '23 ST', '14 ST-UNION SQ', '8 ST-NYU',\n",
       "       'PRINCE ST', 'CANAL ST', 'CITY HALL', 'CORTLANDT ST', 'RECTOR ST',\n",
       "       'WHITEHALL S-FRY', 'DELANCEY/ESSEX', 'BOWERY', 'CHAMBERS ST',\n",
       "       'FULTON ST', 'BROAD ST', '7 AV', 'PARK PLACE', 'BOTANIC GARDEN',\n",
       "       'PROSPECT PARK', 'PARKSIDE AV', 'CHURCH AV', 'BEVERLEY ROAD',\n",
       "       'CORTELYOU RD', 'NEWKIRK PLAZA', 'AVENUE H', 'AVENUE J', 'AVENUE M',\n",
       "       'KINGS HWY', 'AVENUE U', 'NECK RD', 'SHEEPSHEAD BAY',\n",
       "       'BRIGHTON BEACH', 'OCEAN PKWY', 'BOROUGH HALL', 'JAY ST-METROTEC',\n",
       "       'DEKALB AV', 'ATL AV-BARCLAY', 'UNION ST', '4AV-9 ST',\n",
       "       'PROSPECT AV', '25 ST', '36 ST', '45 ST', '53 ST', 'BAY RIDGE AV',\n",
       "       '77 ST', '86 ST', '8 AV', 'FT HAMILTON PKY', 'NEW UTRECHT AV',\n",
       "       '18 AV', '20 AV', 'BAY PKWY', '9 AV', '50 ST', '55 ST', '71 ST',\n",
       "       '79 ST', '25 AV', 'BAY 50 ST', 'CONEY IS-STILLW', 'W 8 ST-AQUARIUM',\n",
       "       '6 AV', '3 AV', '1 AV', 'BEDFORD AV', 'LORIMER ST', 'GRAHAM AV',\n",
       "       'GRAND ST', 'MONTROSE AV', 'MORGAN AV', 'JEFFERSON ST',\n",
       "       'MYRTLE-WYCKOFF', 'HALSEY ST', 'BUSHWICK AV', 'ATLANTIC AV',\n",
       "       'SUTTER AV', 'LIVONIA AV', 'NEW LOTS', 'EAST 105 ST',\n",
       "       'CANARSIE-ROCKAW', 'HOWARD BCH JFK', 'JFK JAMAICA CT1', 'MARCY AV',\n",
       "       'HEWES ST', 'FLUSHING AV', 'MYRTLE AV', 'KOSCIUSZKO ST', 'GATES AV',\n",
       "       'CHAUNCEY ST', 'ALABAMA AV', 'VAN SICLEN AV', 'CLEVELAND ST',\n",
       "       'NORWOOD AV', 'CRESCENT ST', 'CYPRESS HILLS', '75 ST-ELDERTS',\n",
       "       '85 ST-FOREST PK', 'WOODHAVEN BLVD', '104 ST', '111 ST', '121 ST',\n",
       "       'CENTRAL AV', 'KNICKERBOCKER', 'SENECA AVE', 'FOREST AVE',\n",
       "       'FRESH POND RD', 'METROPOLITAN AV', 'INWOOD-207 ST', 'DYCKMAN ST',\n",
       "       '190 ST', '181 ST', '175 ST', '168 ST', '163 ST-AMSTERDM', '155 ST',\n",
       "       '145 ST', '135 ST', '125 ST', '116 ST', 'CATHEDRAL PKWY', '103 ST',\n",
       "       '96 ST', '81 ST-MUSEUM', '72 ST', '59 ST COLUMBUS',\n",
       "       '42 ST-PORT AUTH', '34 ST-PENN STA', '14 ST', 'W 4 ST-WASH SQ',\n",
       "       'SPRING ST', 'WORLD TRADE CTR', 'HIGH ST', 'HOYT-SCHER',\n",
       "       'LAFAYETTE AV', 'CLINTON-WASH AV', 'FRANKLIN AV', 'NOSTRAND AV',\n",
       "       'KINGSTON-THROOP', 'UTICA AV', 'RALPH AV', 'ROCKAWAY AV',\n",
       "       'BROADWAY JCT', 'LIBERTY AV', 'VAN SICLEN AVE', 'SHEPHERD AV',\n",
       "       'EUCLID AV', 'GRANT AV', '80 ST', '88 ST', 'ROCKAWAY BLVD',\n",
       "       'OZONE PK LEFFRT', 'AQUEDUCT N.COND', 'AQUEDUCT RACETR',\n",
       "       'BROAD CHANNEL', 'BEACH 90 ST', 'BEACH 98 ST', 'BEACH 105 ST',\n",
       "       'ROCKAWAY PARK B', 'BEACH 67 ST', 'BEACH 60 ST', 'BEACH 44 ST',\n",
       "       'BEACH 36 ST', 'BEACH 25 ST', 'FAR ROCKAWAY', '161/YANKEE STAD',\n",
       "       '167 ST', '170 ST', '174-175 STS', 'TREMONT AV', '182-183 STS',\n",
       "       'FORDHAM RD', 'KINGSBRIDGE RD', 'BEDFORD PK BLVD', 'NORWOOD 205 ST',\n",
       "       '5 AV/53 ST', 'LEXINGTON AV/53', 'COURT SQ-23 ST', 'QUEENS PLAZA',\n",
       "       'STEINWAY ST', '46 ST', 'NORTHERN BLVD', '65 ST', 'JKSN HT-ROOSVLT',\n",
       "       'ELMHURST AV', 'GRAND-NEWTOWN', '63 DR-REGO PARK', '67 AV',\n",
       "       'FOREST HILLS 71', '75 AV', 'KEW GARDENS', 'BRIARWOOD',\n",
       "       'SUTPHIN BLVD', 'PARSONS BLVD', '169 ST', 'JAMAICA 179 ST',\n",
       "       'COURT SQ', '21 ST', 'GREENPOINT AV', 'NASSAU ST', 'BROADWAY',\n",
       "       'MYRTLE-WILLOUGH', 'BEDFORD-NOSTRAN', 'CLASSON AV',\n",
       "       '47-50 STS ROCK', '42 ST-BRYANT PK', \"B'WAY-LAFAYETTE\", '2 AV',\n",
       "       'EAST BROADWAY', 'YORK ST', 'BERGEN ST', 'CARROLL ST', 'SMITH-9 ST',\n",
       "       '4 AV-9 ST', '15 ST-PROSPECT', 'DITMAS AV', 'AVENUE I', 'AVENUE N',\n",
       "       'AVENUE P', 'AVENUE X', 'NEPTUNE AV', '57 ST', 'LEXINGTON AV/63',\n",
       "       'ROOSEVELT ISLND', '21 ST-QNSBRIDGE', 'JAMAICA VAN WK',\n",
       "       'SUTPHIN-ARCHER', 'JAMAICA CENTER', 'ORCHARD BEACH',\n",
       "       'NEWARK HW BMEBE', 'HARRISON', 'JOURNAL SQUARE', 'GROVE STREET',\n",
       "       'EXCHANGE PLACE', 'PAVONIA/NEWPORT', 'CITY / BUS', 'PATH WTC',\n",
       "       'CHRISTOPHER ST', '9TH STREET', '14TH STREET', 'TWENTY THIRD ST',\n",
       "       'THIRTY ST', 'LACKAWANNA', 'THIRTY THIRD ST', 'NEWARK BM BW',\n",
       "       'NEWARK C', 'NEWARK HM HE', 'PATH WTC 2', 'SOUTH FERRY', 'WALL ST',\n",
       "       'FRANKLIN ST', 'HOUSTON ST', '18 ST', '66 ST-LINCOLN',\n",
       "       '116 ST-COLUMBIA', '137 ST CITY COL', '157 ST', '191 ST', '207 ST',\n",
       "       '215 ST', 'MARBLE HILL-225', '231 ST', '238 ST', 'V.CORTLANDT PK',\n",
       "       'BOWLING GREEN', 'BROOKLYN BRIDGE', 'BLEECKER ST', 'ASTOR PL',\n",
       "       '33 ST', 'GRD CNTRL-42 ST', '51 ST', '68ST-HUNTER CO', '110 ST',\n",
       "       '138/GRAND CONC', '149/GRAND CONC', 'MT EDEN AV', '176 ST',\n",
       "       'BURNSIDE AV', '183 ST', 'MOSHOLU PKWY', 'WOODLAWN',\n",
       "       'CENTRAL PK N110', 'HARLEM 148 ST', '3 AV-149 ST', 'JACKSON AV',\n",
       "       'INTERVALE AV', 'SIMPSON ST', 'FREEMAN ST', '174 ST',\n",
       "       'WEST FARMS SQ', 'E 180 ST', 'BRONX PARK EAST', 'PELHAM PKWY',\n",
       "       'ALLERTON AV', 'BURKE AV', 'GUN HILL RD', '219 ST', '225 ST',\n",
       "       '233 ST', 'NEREID AV', 'WAKEFIELD/241', '3 AV 138 ST', 'BROOK AV',\n",
       "       'CYPRESS AV', \"E 143/ST MARY'S\", 'E 149 ST', 'LONGWOOD AV',\n",
       "       'HUNTS POINT AV', 'WHITLOCK AV', 'ELDER AV', 'MORISN AV/SNDVW',\n",
       "       'ST LAWRENCE AV', 'PARKCHESTER', 'CASTLE HILL AV', 'ZEREGA AV',\n",
       "       'WESTCHESTER SQ', 'MIDDLETOWN RD', 'BUHRE AV', 'PELHAM BAY PARK',\n",
       "       '5 AVE', 'VERNON-JACKSON', 'HUNTERS PT AV', 'QUEENSBORO PLZ',\n",
       "       '39 AV', '36 AV', '30 AV', 'ASTORIA BLVD', 'ASTORIA DITMARS',\n",
       "       '33 ST-RAWSON ST', '40 ST LOWERY ST', '46 ST BLISS ST', '52 ST',\n",
       "       '61 ST WOODSIDE', '69 ST', '74 ST-BROADWAY', '82 ST-JACKSON H',\n",
       "       '90 ST-ELMHURST', 'JUNCTION BLVD', '103 ST-CORONA',\n",
       "       'METS-WILLETS PT', 'FLUSHING-MAIN', '34 ST-HUDSON YD', 'CLARK ST',\n",
       "       'HOYT ST', 'NEVINS ST', 'GRAND ARMY PLAZ', 'EASTN PKWY-MUSM',\n",
       "       'KINGSTON AV', 'CROWN HTS-UTICA', 'SUTTER AV-RUTLD', 'JUNIUS ST',\n",
       "       'NEW LOTS AV', 'PRESIDENT ST', 'STERLING ST', 'WINTHROP ST',\n",
       "       'BEVERLY RD', 'NEWKIRK AV', 'FLATBUSH AV-B.C', 'MORRIS PARK',\n",
       "       'BAYCHESTER AV', 'EASTCHSTER/DYRE', 'ST. GEORGE', 'TOMPKINSVILLE',\n",
       "       'RIT-MANHATTAN', 'RIT-ROOSEVELT'], dtype=object)"
      ]
     },
     "execution_count": 88,
     "metadata": {},
     "output_type": "execute_result"
    }
   ],
   "source": [
    "# list all the unique value\n",
    "subway_data.STATION.unique()"
   ]
  },
  {
   "cell_type": "code",
   "execution_count": 89,
   "metadata": {},
   "outputs": [
    {
     "data": {
      "text/plain": [
       "array(['ASTOR PL', 'CANAL ST', '50TH ST', 'BERGEN ST', 'PENNSYLVANIA AVE',\n",
       "       '238TH ST', 'CATHEDRAL PKWY (110TH ST)', 'KINGSTON - THROOP AVES',\n",
       "       '65TH ST', '36TH ST', 'DELANCEY ST - ESSEX ST', 'VAN SICLEN AVE',\n",
       "       'NORWOOD AVE', '104TH-102ND STS', 'DEKALB AVE', 'BEACH 105TH ST',\n",
       "       'BEACH 90TH ST', 'FREEMAN ST', 'INTERVALE AVE', '182ND-183RD STS',\n",
       "       '174TH-175TH STS', '167TH ST', 'METS - WILLETS POINT',\n",
       "       'JUNCTION BLVD', 'FLUSHING - MAIN ST', 'BUHRE AVE',\n",
       "       '3RD AVE - 138TH ST', 'CASTLE HILL AVE',\n",
       "       'BROOKLYN BRIDGE - CITY HALL', 'ZEREGA AVE',\n",
       "       'GRAND CENTRAL - 42ND ST', '33RD ST', '96TH ST', '77TH ST',\n",
       "       'CHAUNCEY ST', 'UNION ST', 'ELMHURST AVE', 'RALPH AVE',\n",
       "       'PELHAM PKWY', 'GUN HILL RD', 'NEREID AVE (238 ST)', 'FRANKLIN AVE',\n",
       "       'SIMPSON ST', 'BRONX PARK EAST', 'WINTHROP ST',\n",
       "       '149TH ST - GRAND CONCOURSE', '161ST ST - YANKEE STADIUM',\n",
       "       'LEXINGTON AVE - 59TH ST', 'E 149TH ST', 'MORRISON AV - SOUNDVIEW',\n",
       "       'WHITLOCK AVE', 'ST LAWRENCE AVE', 'WOODSIDE - 61ST ST',\n",
       "       'FAR ROCKAWAY - MOTT AVE', '72ND ST', '168TH ST', 'KINGSBRIDGE RD',\n",
       "       '42ND ST - BRYANT PK', 'PROSPECT PARK', '55TH ST',\n",
       "       'JAMAICA - VAN WYCK', 'KEW GARDENS - UNION TPKE',\n",
       "       'SUTPHIN BLVD - ARCHER AV', 'COURT SQ - 23RD ST', '67TH AVE',\n",
       "       'GRAND AVE - NEWTOWN', 'DITMAS AVE', 'CLASSON AVE', 'BROADWAY',\n",
       "       'LORIMER ST', 'SUTTER AVE', 'WILSON AVE', 'HALSEY ST', '8TH AVE',\n",
       "       '36TH AVE', 'TIMES SQ - 42ND ST', 'PARK PL', '111TH ST',\n",
       "       'W 4TH ST - WASHINGTON SQ (LOWER)', '51ST ST', '86TH ST',\n",
       "       '233RD ST', '66TH ST - LINCOLN CTR', 'HUNTS POINT AVE',\n",
       "       'MIDDLETOWN RD', '23RD ST', 'COURT SQ', '59TH ST - COLUMBUS CIRCLE',\n",
       "       'HUNTERS POINT AVE', 'HOUSTON ST', '104TH ST', 'BROAD CHANNEL',\n",
       "       'OCEAN PKWY', 'VERNON BLVD - JACKSON AVE',\n",
       "       '68TH ST - HUNTER COLLEGE', 'QUEENSBORO PLZ', 'ROCKAWAY BLVD',\n",
       "       'UNION SQ - 14TH ST', 'BEDFORD - NOSTRAND AVES',\n",
       "       '15TH ST - PROSPECT PARK', '7TH AVE', 'FT HAMILTON PKWY',\n",
       "       'CHURCH AVE', 'BEVERLY RD', 'NEWKIRK AVE', 'PARKSIDE AVE',\n",
       "       'GRAND ARMY PLAZA', \"ATLANTIC AV - BARCLAY'S CENTER\",\n",
       "       'ROCKAWAY AVE', 'FULTON ST', 'CLINTON - WASHINGTON AVES',\n",
       "       'BOROUGH HALL', 'AQUEDUCT RACETRACK', 'MORRIS PARK', 'NOSTRAND AVE',\n",
       "       'NEVINS ST', 'EASTERN PKWY - BKLYN MUSEUM',\n",
       "       'BROOKLYN COLLEGE - FLATBUSH AVE', 'STERLING ST',\n",
       "       'CROWN HTS - UTICA AVE', 'KINGSTON AVE', 'NASSAU AVE',\n",
       "       'GREENPOINT AVE', 'MARCY AVE', 'HEWES ST',\n",
       "       '138TH ST - GRAND CONCOURSE', '5TH AVE - 53RD ST',\n",
       "       'LEXINGTON AVE - 53RD ST', '28TH ST', 'HERALD SQ - 34TH ST',\n",
       "       '1ST AVE', 'METROPOLITAN AVE', 'GRAND ST', 'GRAHAM AVE',\n",
       "       'BEDFORD AVE', 'MONTROSE AVE', 'LONG ISLAND CITY - COURT SQ',\n",
       "       '21ST ST', '39TH AVE', '145TH ST', '157TH ST', '103RD ST',\n",
       "       'CENTRAL PARK NORTH (110TH ST)', '81ST ST', '75TH AVE',\n",
       "       '116TH ST - COLUMBIA UNIVERSITY', '125TH ST', '135TH ST',\n",
       "       '116TH ST', 'TREMONT AVE', '137TH ST - CITY COLLEGE', '176TH ST',\n",
       "       'BURNSIDE AVE', '170TH ST', '181ST ST', '191ST ST', '175TH ST',\n",
       "       'BEACH 44TH ST', 'BEACH 60TH ST', 'BEACH 98TH ST',\n",
       "       'ROCKAWAY PARK - BEACH 116 ST', 'BEACH 36TH ST', 'BEACH 25TH ST',\n",
       "       'PARSONS BLVD', '169TH ST', '103RD ST - CORONA PLAZA',\n",
       "       '63RD DR - REGO PARK', 'GRANT AVE', '79TH ST', 'ATLANTIC AVE',\n",
       "       'CHRISTOPHER ST - SHERIDAN SQ', 'OZONE PARK - LEFFERTS BLVD',\n",
       "       'W 8TH ST - NY AQUARIUM', 'PELHAM BAY PARK',\n",
       "       'WESTCHESTER SQ - E TREMONT AVE', '18TH ST', 'BEACH 67TH ST',\n",
       "       'W 4TH ST - WASHINGTON SQ (UPPER)', '85TH ST - FOREST PKY',\n",
       "       'WOODHAVEN BLVD', '121ST ST', 'MYRTLE - WYCKOFF AVES',\n",
       "       'NEW LOTS AVE', 'CLEVELAND ST', 'LIVONIA AVE', 'JUNIUS ST',\n",
       "       'CANARSIE - ROCKAWAY PKWY', 'E 105TH ST', 'SARATOGA AVE',\n",
       "       'SUTTER AVE - RUTLAND ROAD', 'BROADWAY JUNCTION', 'ALABAMA AVE',\n",
       "       'SHEPHERD AVE', 'CRESCENT ST', 'CYPRESS HILLS',\n",
       "       '75TH ST - ELDERT LN', '69TH ST', '74TH ST - BROADWAY',\n",
       "       'WOODHAVEN BLVD - QUEENS MALL', 'SENECA AVE', '52ND ST', '46TH ST',\n",
       "       'NORTHERN BLVD', '82ND ST - JACKSON HTS', '90TH ST - ELMHURST AV',\n",
       "       'HOWARD BEACH - JFK AIRPORT', 'AQUEDUCT - NORTH CONDUIT AV',\n",
       "       'BRIARWOOD - VAN WYCK BLVD', 'FOREST HILLS - 71ST AV',\n",
       "       'SUTPHIN BLVD', 'JAMAICA CTR - PARSONS / ARCHER', '225TH ST',\n",
       "       'ELDER AVE', 'LONGWOOD AVE', 'ASTORIA BLVD',\n",
       "       'ASTORIA - DITMARS BLVD', 'JACKSON AVE', 'PROSPECT AVE',\n",
       "       'CYPRESS AVE', '174TH ST', 'ALLERTON AVE',\n",
       "       \"E 143RD ST - ST MARY'S ST\", 'BEDFORD PARK BLVD - LEHMAN COLLEGE',\n",
       "       'HARLEM - 148 ST', 'MT EDEN AVE', 'FORDHAM RD', 'BEDFORD PARK BLVD',\n",
       "       'MARBLE HILL - 225TH ST', '231ST ST', '215TH ST', '207TH ST',\n",
       "       'INWOOD - 207TH ST', 'VAN CORTLANDT PARK - 242ND ST',\n",
       "       'WEST FARMS SQ - E TREMONT AV', '219TH ST', 'MOSHOLU PKWY',\n",
       "       'NORWOOD - 205TH ST', 'BURKE AVE', 'BAYCHESTER AVE',\n",
       "       'EASTCHESTER - DYRE AVE', 'JAMAICA - 179TH ST',\n",
       "       'WAKEFIELD - 241ST ST', 'BOTANIC GARDEN', 'BUSHWICK - ABERDEEN',\n",
       "       'E 180TH ST', 'DYCKMAN ST', 'FRANKLIN AVE - FULTON ST',\n",
       "       '3RD AVE - 149TH ST', 'BROOK AVE', '40TH ST', '155TH ST',\n",
       "       'UTICA AVE', 'STEINWAY ST', 'KOSCIUSZKO ST', 'GATES AVE',\n",
       "       'CENTRAL AVE', 'KNICKERBOCKER AVE', '30TH AVE', 'JEFFERSON ST',\n",
       "       'MORGAN AVE', 'QUEENS PLZ', '18TH AVE', 'BAY RIDGE AVE', '25TH AVE',\n",
       "       'BAY PKY', '20TH AVE', 'BAY RIDGE - 95TH ST', '71ST ST', '62ND ST',\n",
       "       'NEW UTRECHT AVE', 'AVE U', 'KINGS HWY', 'BRIGHTON BEACH',\n",
       "       'SHEEPSHEAD BAY', 'NEPTUNE AVE', 'AVE X', 'BAY 50TH ST',\n",
       "       'GRAVESEND - 86TH ST', 'AVE P', 'AVE N', 'AVE M', 'AVE I', 'AVE J',\n",
       "       'AVE H', 'NECK RD', '21ST ST - QUEENSBRIDGE',\n",
       "       '47TH-50TH STS - ROCKEFELLER CTR', '57TH ST',\n",
       "       'LEXINGTON AVE - 63RD ST', 'ROOSEVELT ISLAND - MAIN ST', '49TH ST',\n",
       "       '5TH AVE - 59TH ST', '34TH ST - PENN STATION', 'CHAMBERS ST',\n",
       "       '42ND ST - PORT AUTHORITY BUS TERM', 'MYRTLE-WILLOUGHBY AVES',\n",
       "       'FLUSHING AVE', 'HOYT - SCHERMERHORN STS', 'JAY ST - METROTECH',\n",
       "       'EAST BROADWAY', 'LOWER EAST SIDE - 2ND AVE', 'MYRTLE AVE',\n",
       "       '4TH AV - 9TH ST', 'SMITH - 9TH STS', 'COURT ST', '3RD AVE',\n",
       "       'LIBERTY AVE', '59TH ST', '45TH ST', '9TH AVE', '53RD ST',\n",
       "       '25TH ST', 'CARROLL ST', 'SPRING ST', '190TH ST', 'PRINCE ST',\n",
       "       '8TH ST - NYU', 'HOYT ST', '183RD ST', 'WORLD TRADE CENTER',\n",
       "       'CANAL ST - HOLLAND TUNNEL', '163RD ST - AMSTERDAM AV', 'CITY HALL',\n",
       "       'SOUTH FERRY', 'BOWLING GREEN', 'WALL ST', 'WHITEHALL ST',\n",
       "       'RECTOR ST', 'FRESH POND RD', 'MIDDLE VILLAGE - METROPOLITAN AVE',\n",
       "       'CORTLANDT ST', 'BROAD ST', 'BROADWAY - LAFAYETTE ST', 'BOWERY',\n",
       "       'JACKSON HTS - ROOSEVELT AV', '14TH ST', '6TH AVE', 'CLARK ST',\n",
       "       'FOREST AVE', '110TH ST', 'YORK ST', 'HIGH ST', 'LAFAYETTE AVE',\n",
       "       'PRESIDENT ST', 'WOODLAWN', 'BLEECKER ST', 'EUCLID AVE', '88TH ST',\n",
       "       'CORTELYOU RD', 'PARKCHESTER', 'FRANKLIN ST', '80TH ST',\n",
       "       '5TH AVE - BRYANT PK', 'CONEY ISLAND - STILLWELL AV',\n",
       "       '34TH ST - HUDSON YARDS'], dtype=object)"
      ]
     },
     "execution_count": 89,
     "metadata": {},
     "output_type": "execute_result"
    }
   ],
   "source": [
    "station.NAME.unique()"
   ]
  },
  {
   "cell_type": "code",
   "execution_count": 74,
   "metadata": {},
   "outputs": [],
   "source": [
    "station=pd.read_csv('DOITT_SUBWAY_STATION.csv')"
   ]
  },
  {
   "cell_type": "code",
   "execution_count": 77,
   "metadata": {},
   "outputs": [],
   "source": [
    "station['NAME']=station['NAME'].str.upper()"
   ]
  },
  {
   "cell_type": "code",
   "execution_count": 80,
   "metadata": {},
   "outputs": [],
   "source": [
    "combine=subway_data.join(station, lsuffix='Station', rsuffix='NAME')"
   ]
  },
  {
   "cell_type": "code",
   "execution_count": 86,
   "metadata": {},
   "outputs": [
    {
     "data": {
      "text/plain": [
       "C/A                                                                          0\n",
       "UNIT                                                                         0\n",
       "SCP                                                                          0\n",
       "STATION                                                                      0\n",
       "LINENAME                                                                     0\n",
       "DIVISION                                                                     0\n",
       "DATE                                                                         0\n",
       "TIME                                                                         0\n",
       "DESC                                                                         0\n",
       "ENTRIES                                                                      0\n",
       "EXITS                                                                        0\n",
       "OBJECTID                                                                193873\n",
       "NAME                                                                    193873\n",
       "Longitude                                                               193873\n",
       "Latitude                                                                193873\n",
       "LINE                                                                    193873\n",
       "NOTES                                                                   193873\n",
       "dtype: int64"
      ]
     },
     "execution_count": 86,
     "metadata": {},
     "output_type": "execute_result"
    }
   ],
   "source": [
    "combine.isnull().sum()"
   ]
  },
  {
   "cell_type": "code",
   "execution_count": null,
   "metadata": {
    "collapsed": true
   },
   "outputs": [],
   "source": []
  },
  {
   "cell_type": "code",
   "execution_count": null,
   "metadata": {
    "collapsed": true
   },
   "outputs": [],
   "source": []
  },
  {
   "cell_type": "code",
   "execution_count": null,
   "metadata": {
    "collapsed": true
   },
   "outputs": [],
   "source": []
  },
  {
   "cell_type": "code",
   "execution_count": 8,
   "metadata": {},
   "outputs": [
    {
     "name": "stderr",
     "output_type": "stream",
     "text": [
      "/Users/apple/anaconda/lib/python3.6/site-packages/IPython/core/interactiveshell.py:2728: DtypeWarning: Columns (8) have mixed types. Specify dtype option on import or set low_memory=False.\n",
      "  interactivity=interactivity, compiler=compiler, result=result)\n"
     ]
    },
    {
     "data": {
      "text/html": [
       "<div>\n",
       "<style>\n",
       "    .dataframe thead tr:only-child th {\n",
       "        text-align: right;\n",
       "    }\n",
       "\n",
       "    .dataframe thead th {\n",
       "        text-align: left;\n",
       "    }\n",
       "\n",
       "    .dataframe tbody tr th {\n",
       "        vertical-align: top;\n",
       "    }\n",
       "</style>\n",
       "<table border=\"1\" class=\"dataframe\">\n",
       "  <thead>\n",
       "    <tr style=\"text-align: right;\">\n",
       "      <th></th>\n",
       "      <th>vendor_id</th>\n",
       "      <th>pickup_datetime</th>\n",
       "      <th>dropoff_datetime</th>\n",
       "      <th>passenger_count</th>\n",
       "      <th>trip_distance</th>\n",
       "      <th>pickup_longitude</th>\n",
       "      <th>pickup_latitude</th>\n",
       "      <th>rate_code</th>\n",
       "      <th>store_and_fwd_flag</th>\n",
       "      <th>dropoff_longitude</th>\n",
       "      <th>dropoff_latitude</th>\n",
       "      <th>payment_type</th>\n",
       "      <th>fare_amount</th>\n",
       "      <th>surcharge</th>\n",
       "      <th>mta_tax</th>\n",
       "      <th>tip_amount</th>\n",
       "      <th>tolls_amount</th>\n",
       "      <th>total_amount</th>\n",
       "    </tr>\n",
       "  </thead>\n",
       "  <tbody>\n",
       "    <tr>\n",
       "      <th>0</th>\n",
       "      <td>CMT</td>\n",
       "      <td>2014-08-16 14:58:49</td>\n",
       "      <td>2014-08-16 15:15:59</td>\n",
       "      <td>1</td>\n",
       "      <td>2.7</td>\n",
       "      <td>-73.946537</td>\n",
       "      <td>40.776813</td>\n",
       "      <td>1</td>\n",
       "      <td>N</td>\n",
       "      <td>-73.976193</td>\n",
       "      <td>40.755625</td>\n",
       "      <td>CSH</td>\n",
       "      <td>14.0</td>\n",
       "      <td>0.0</td>\n",
       "      <td>0.5</td>\n",
       "      <td>0.0</td>\n",
       "      <td>0.00</td>\n",
       "      <td>14.50</td>\n",
       "    </tr>\n",
       "    <tr>\n",
       "      <th>1</th>\n",
       "      <td>CMT</td>\n",
       "      <td>2014-08-16 08:10:48</td>\n",
       "      <td>2014-08-16 08:58:16</td>\n",
       "      <td>3</td>\n",
       "      <td>20.4</td>\n",
       "      <td>-73.776857</td>\n",
       "      <td>40.645099</td>\n",
       "      <td>1</td>\n",
       "      <td>Y</td>\n",
       "      <td>-73.916249</td>\n",
       "      <td>40.837357</td>\n",
       "      <td>CSH</td>\n",
       "      <td>58.5</td>\n",
       "      <td>0.0</td>\n",
       "      <td>0.5</td>\n",
       "      <td>0.0</td>\n",
       "      <td>5.33</td>\n",
       "      <td>64.33</td>\n",
       "    </tr>\n",
       "    <tr>\n",
       "      <th>2</th>\n",
       "      <td>CMT</td>\n",
       "      <td>2014-08-16 09:44:07</td>\n",
       "      <td>2014-08-16 09:54:37</td>\n",
       "      <td>1</td>\n",
       "      <td>2.1</td>\n",
       "      <td>-73.986585</td>\n",
       "      <td>40.725848</td>\n",
       "      <td>1</td>\n",
       "      <td>N</td>\n",
       "      <td>-73.977157</td>\n",
       "      <td>40.751961</td>\n",
       "      <td>CSH</td>\n",
       "      <td>9.5</td>\n",
       "      <td>0.0</td>\n",
       "      <td>0.5</td>\n",
       "      <td>0.0</td>\n",
       "      <td>0.00</td>\n",
       "      <td>10.00</td>\n",
       "    </tr>\n",
       "    <tr>\n",
       "      <th>3</th>\n",
       "      <td>CMT</td>\n",
       "      <td>2014-08-16 10:46:13</td>\n",
       "      <td>2014-08-16 10:51:25</td>\n",
       "      <td>1</td>\n",
       "      <td>1.3</td>\n",
       "      <td>-73.976290</td>\n",
       "      <td>40.765231</td>\n",
       "      <td>1</td>\n",
       "      <td>N</td>\n",
       "      <td>-73.961485</td>\n",
       "      <td>40.777889</td>\n",
       "      <td>CSH</td>\n",
       "      <td>6.0</td>\n",
       "      <td>0.0</td>\n",
       "      <td>0.5</td>\n",
       "      <td>0.0</td>\n",
       "      <td>0.00</td>\n",
       "      <td>6.50</td>\n",
       "    </tr>\n",
       "    <tr>\n",
       "      <th>4</th>\n",
       "      <td>CMT</td>\n",
       "      <td>2014-08-16 09:27:23</td>\n",
       "      <td>2014-08-16 09:39:37</td>\n",
       "      <td>2</td>\n",
       "      <td>1.7</td>\n",
       "      <td>-73.995248</td>\n",
       "      <td>40.754646</td>\n",
       "      <td>1</td>\n",
       "      <td>Y</td>\n",
       "      <td>-73.995903</td>\n",
       "      <td>40.769201</td>\n",
       "      <td>CSH</td>\n",
       "      <td>10.5</td>\n",
       "      <td>0.0</td>\n",
       "      <td>0.5</td>\n",
       "      <td>0.0</td>\n",
       "      <td>0.00</td>\n",
       "      <td>11.00</td>\n",
       "    </tr>\n",
       "  </tbody>\n",
       "</table>\n",
       "</div>"
      ],
      "text/plain": [
       "  vendor_id      pickup_datetime     dropoff_datetime   passenger_count  \\\n",
       "0       CMT  2014-08-16 14:58:49  2014-08-16 15:15:59                 1   \n",
       "1       CMT  2014-08-16 08:10:48  2014-08-16 08:58:16                 3   \n",
       "2       CMT  2014-08-16 09:44:07  2014-08-16 09:54:37                 1   \n",
       "3       CMT  2014-08-16 10:46:13  2014-08-16 10:51:25                 1   \n",
       "4       CMT  2014-08-16 09:27:23  2014-08-16 09:39:37                 2   \n",
       "\n",
       "    trip_distance   pickup_longitude   pickup_latitude   rate_code  \\\n",
       "0             2.7         -73.946537         40.776813           1   \n",
       "1            20.4         -73.776857         40.645099           1   \n",
       "2             2.1         -73.986585         40.725848           1   \n",
       "3             1.3         -73.976290         40.765231           1   \n",
       "4             1.7         -73.995248         40.754646           1   \n",
       "\n",
       "   store_and_fwd_flag   dropoff_longitude   dropoff_latitude  payment_type  \\\n",
       "0                   N          -73.976193          40.755625           CSH   \n",
       "1                   Y          -73.916249          40.837357           CSH   \n",
       "2                   N          -73.977157          40.751961           CSH   \n",
       "3                   N          -73.961485          40.777889           CSH   \n",
       "4                   Y          -73.995903          40.769201           CSH   \n",
       "\n",
       "    fare_amount   surcharge   mta_tax   tip_amount   tolls_amount  \\\n",
       "0          14.0         0.0       0.5          0.0           0.00   \n",
       "1          58.5         0.0       0.5          0.0           5.33   \n",
       "2           9.5         0.0       0.5          0.0           0.00   \n",
       "3           6.0         0.0       0.5          0.0           0.00   \n",
       "4          10.5         0.0       0.5          0.0           0.00   \n",
       "\n",
       "    total_amount  \n",
       "0          14.50  \n",
       "1          64.33  \n",
       "2          10.00  \n",
       "3           6.50  \n",
       "4          11.00  "
      ]
     },
     "execution_count": 8,
     "metadata": {},
     "output_type": "execute_result"
    }
   ],
   "source": [
    "taxi_data=pd.read_csv('yellow_tripdata_2014-08.csv')\n",
    "taxi_data.head()"
   ]
  },
  {
   "cell_type": "code",
   "execution_count": 9,
   "metadata": {
    "collapsed": true
   },
   "outputs": [],
   "source": [
    "#taxi_data[\"pickup_datetime\"] = pd.to_datetime(taxi_data[\"pickup_datetime\"])\n",
    "#taxi_data[\"dropoff_datetime\"] = pd.to_datetime(taxi_data[\"dropoff_datetime\"])\n",
    "#taxi_data[\"hour\"] = bike_data[\"pickup_datetime\"].map(lambda x: x.hour)"
   ]
  },
  {
   "cell_type": "code",
   "execution_count": 3,
   "metadata": {
    "collapsed": true
   },
   "outputs": [],
   "source": [
    "bike_data=pd.read_csv('JC-201804-citibike-tripdata.csv')\n",
    "#bike_data.head()"
   ]
  },
  {
   "cell_type": "code",
   "execution_count": 4,
   "metadata": {},
   "outputs": [
    {
     "data": {
      "text/html": [
       "<div>\n",
       "<style>\n",
       "    .dataframe thead tr:only-child th {\n",
       "        text-align: right;\n",
       "    }\n",
       "\n",
       "    .dataframe thead th {\n",
       "        text-align: left;\n",
       "    }\n",
       "\n",
       "    .dataframe tbody tr th {\n",
       "        vertical-align: top;\n",
       "    }\n",
       "</style>\n",
       "<table border=\"1\" class=\"dataframe\">\n",
       "  <thead>\n",
       "    <tr style=\"text-align: right;\">\n",
       "      <th></th>\n",
       "      <th>tripduration</th>\n",
       "      <th>starttime</th>\n",
       "      <th>stoptime</th>\n",
       "      <th>start station id</th>\n",
       "      <th>start station name</th>\n",
       "      <th>start station latitude</th>\n",
       "      <th>start station longitude</th>\n",
       "      <th>end station id</th>\n",
       "      <th>end station name</th>\n",
       "      <th>end station latitude</th>\n",
       "      <th>end station longitude</th>\n",
       "      <th>bikeid</th>\n",
       "      <th>name_localizedValue0</th>\n",
       "      <th>usertype</th>\n",
       "      <th>birth year</th>\n",
       "      <th>gender</th>\n",
       "    </tr>\n",
       "  </thead>\n",
       "  <tbody>\n",
       "    <tr>\n",
       "      <th>0</th>\n",
       "      <td>383</td>\n",
       "      <td>2018-04-01 00:00:28</td>\n",
       "      <td>2018-04-01 00:06:52</td>\n",
       "      <td>3195</td>\n",
       "      <td>Sip Ave</td>\n",
       "      <td>40.730743</td>\n",
       "      <td>-74.063784</td>\n",
       "      <td>3193</td>\n",
       "      <td>Lincoln Park</td>\n",
       "      <td>40.724605</td>\n",
       "      <td>-74.078406</td>\n",
       "      <td>26275</td>\n",
       "      <td>Annual Membership</td>\n",
       "      <td>Subscriber</td>\n",
       "      <td>1977.0</td>\n",
       "      <td>1</td>\n",
       "    </tr>\n",
       "    <tr>\n",
       "      <th>1</th>\n",
       "      <td>380</td>\n",
       "      <td>2018-04-01 00:05:42</td>\n",
       "      <td>2018-04-01 00:12:02</td>\n",
       "      <td>3202</td>\n",
       "      <td>Newport PATH</td>\n",
       "      <td>40.727224</td>\n",
       "      <td>-74.033759</td>\n",
       "      <td>3214</td>\n",
       "      <td>Essex Light Rail</td>\n",
       "      <td>40.712774</td>\n",
       "      <td>-74.036486</td>\n",
       "      <td>31675</td>\n",
       "      <td>Annual Membership</td>\n",
       "      <td>Subscriber</td>\n",
       "      <td>1982.0</td>\n",
       "      <td>1</td>\n",
       "    </tr>\n",
       "    <tr>\n",
       "      <th>2</th>\n",
       "      <td>415</td>\n",
       "      <td>2018-04-01 00:06:37</td>\n",
       "      <td>2018-04-01 00:13:33</td>\n",
       "      <td>3199</td>\n",
       "      <td>Newport Pkwy</td>\n",
       "      <td>40.728745</td>\n",
       "      <td>-74.032108</td>\n",
       "      <td>3639</td>\n",
       "      <td>Harborside</td>\n",
       "      <td>40.719252</td>\n",
       "      <td>-74.034234</td>\n",
       "      <td>29284</td>\n",
       "      <td>Annual Membership</td>\n",
       "      <td>Subscriber</td>\n",
       "      <td>1971.0</td>\n",
       "      <td>1</td>\n",
       "    </tr>\n",
       "    <tr>\n",
       "      <th>3</th>\n",
       "      <td>682</td>\n",
       "      <td>2018-04-01 00:14:26</td>\n",
       "      <td>2018-04-01 00:25:49</td>\n",
       "      <td>3186</td>\n",
       "      <td>Grove St PATH</td>\n",
       "      <td>40.719586</td>\n",
       "      <td>-74.043117</td>\n",
       "      <td>3190</td>\n",
       "      <td>Garfield Ave Station</td>\n",
       "      <td>40.710467</td>\n",
       "      <td>-74.070039</td>\n",
       "      <td>29595</td>\n",
       "      <td>Annual Membership</td>\n",
       "      <td>Subscriber</td>\n",
       "      <td>1988.0</td>\n",
       "      <td>1</td>\n",
       "    </tr>\n",
       "    <tr>\n",
       "      <th>4</th>\n",
       "      <td>208</td>\n",
       "      <td>2018-04-01 00:21:05</td>\n",
       "      <td>2018-04-01 00:24:33</td>\n",
       "      <td>3186</td>\n",
       "      <td>Grove St PATH</td>\n",
       "      <td>40.719586</td>\n",
       "      <td>-74.043117</td>\n",
       "      <td>3276</td>\n",
       "      <td>Marin Light Rail</td>\n",
       "      <td>40.714584</td>\n",
       "      <td>-74.042817</td>\n",
       "      <td>31840</td>\n",
       "      <td>Annual Membership from Citi Bike App</td>\n",
       "      <td>Subscriber</td>\n",
       "      <td>1977.0</td>\n",
       "      <td>1</td>\n",
       "    </tr>\n",
       "  </tbody>\n",
       "</table>\n",
       "</div>"
      ],
      "text/plain": [
       "   tripduration            starttime             stoptime  start station id  \\\n",
       "0           383  2018-04-01 00:00:28  2018-04-01 00:06:52              3195   \n",
       "1           380  2018-04-01 00:05:42  2018-04-01 00:12:02              3202   \n",
       "2           415  2018-04-01 00:06:37  2018-04-01 00:13:33              3199   \n",
       "3           682  2018-04-01 00:14:26  2018-04-01 00:25:49              3186   \n",
       "4           208  2018-04-01 00:21:05  2018-04-01 00:24:33              3186   \n",
       "\n",
       "  start station name  start station latitude  start station longitude  \\\n",
       "0            Sip Ave               40.730743               -74.063784   \n",
       "1       Newport PATH               40.727224               -74.033759   \n",
       "2       Newport Pkwy               40.728745               -74.032108   \n",
       "3      Grove St PATH               40.719586               -74.043117   \n",
       "4      Grove St PATH               40.719586               -74.043117   \n",
       "\n",
       "   end station id      end station name  end station latitude  \\\n",
       "0            3193          Lincoln Park             40.724605   \n",
       "1            3214      Essex Light Rail             40.712774   \n",
       "2            3639            Harborside             40.719252   \n",
       "3            3190  Garfield Ave Station             40.710467   \n",
       "4            3276      Marin Light Rail             40.714584   \n",
       "\n",
       "   end station longitude  bikeid                  name_localizedValue0  \\\n",
       "0             -74.078406   26275                     Annual Membership   \n",
       "1             -74.036486   31675                     Annual Membership   \n",
       "2             -74.034234   29284                     Annual Membership   \n",
       "3             -74.070039   29595                     Annual Membership   \n",
       "4             -74.042817   31840  Annual Membership from Citi Bike App   \n",
       "\n",
       "     usertype  birth year  gender  \n",
       "0  Subscriber      1977.0       1  \n",
       "1  Subscriber      1982.0       1  \n",
       "2  Subscriber      1971.0       1  \n",
       "3  Subscriber      1988.0       1  \n",
       "4  Subscriber      1977.0       1  "
      ]
     },
     "execution_count": 4,
     "metadata": {},
     "output_type": "execute_result"
    }
   ],
   "source": [
    "bike_data.head()"
   ]
  },
  {
   "cell_type": "code",
   "execution_count": 5,
   "metadata": {
    "collapsed": true
   },
   "outputs": [],
   "source": [
    "bike_data[\"starttime\"] = pd.to_datetime(bike_data[\"starttime\"])\n",
    "bike_data[\"stoptime\"] = pd.to_datetime(bike_data[\"stoptime\"])\n",
    "bike_data[\"hour\"] = bike_data[\"starttime\"].map(lambda x: x.hour)"
   ]
  },
  {
   "cell_type": "code",
   "execution_count": 6,
   "metadata": {
    "collapsed": true
   },
   "outputs": [],
   "source": [
    "locations = bike_data.groupby(\"start station id\").first()"
   ]
  },
  {
   "cell_type": "code",
   "execution_count": 7,
   "metadata": {
    "collapsed": true
   },
   "outputs": [],
   "source": [
    "locations = locations.loc[:, [\"start station latitude\",\n",
    "                              \"start station longitude\",\n",
    "                              \"start station name\"]]"
   ]
  },
  {
   "cell_type": "code",
   "execution_count": 8,
   "metadata": {
    "collapsed": true
   },
   "outputs": [],
   "source": [
    "subset = bike_data[bike_data[\"hour\"]==10]\n",
    "departure_counts =  subset.groupby(\"start station id\").count()"
   ]
  },
  {
   "cell_type": "code",
   "execution_count": 9,
   "metadata": {
    "collapsed": true
   },
   "outputs": [],
   "source": [
    "# select one column\n",
    "departure_counts = departure_counts.iloc[:,[0]]\n",
    "# and rename that column\n",
    "departure_counts.columns= [\"Departure Count\"]"
   ]
  },
  {
   "cell_type": "code",
   "execution_count": 10,
   "metadata": {
    "collapsed": true
   },
   "outputs": [],
   "source": [
    "arrival_counts =  subset.groupby(\"end station id\").count()\n",
    "arrival_counts = arrival_counts.iloc[:,[0]]\n",
    "arrival_counts.columns= [\"Arrival Count\"]"
   ]
  },
  {
   "cell_type": "code",
   "execution_count": 11,
   "metadata": {
    "collapsed": true
   },
   "outputs": [],
   "source": [
    "trip_counts = departure_counts.join(locations).join(arrival_counts)"
   ]
  },
  {
   "cell_type": "code",
   "execution_count": 12,
   "metadata": {
    "collapsed": true
   },
   "outputs": [],
   "source": [
    "for index, row in trip_counts.iterrows():\n",
    "    net_departures = (row[\"Departure Count\"]-row[\"Arrival Count\"])\n",
    "    radius = net_departures/20\n",
    "    if net_departures>0:\n",
    "        color=\"#E37222\" # tangerine\n",
    "    else:\n",
    "        color=\"#0A8A9F\" # teal\n",
    "    ## add marker\n",
    "    popup_text = \"{}<br> total departures: {}<br> total arrivals: {}<br> net departures: {}\"\n",
    "    popup_text = popup_text.format(row[\"start station name\"],\n",
    "                               row[\"Arrival Count\"],\n",
    "                               row[\"Departure Count\"],\n",
    "                               net_departures)\n",
    "    \n",
    "    folium.CircleMarker(location=(row[\"start station latitude\"],\n",
    "                                  row[\"start station longitude\"]),\n",
    "                        radius=radius,\n",
    "                        color=color,\n",
    "                        fill=True,\n",
    "                       popup=popup_text).add_to(folium_map)"
   ]
  },
  {
   "cell_type": "code",
   "execution_count": 13,
   "metadata": {
    "collapsed": true
   },
   "outputs": [],
   "source": [
    "#trip_counts"
   ]
  },
  {
   "cell_type": "code",
   "execution_count": 14,
   "metadata": {},
   "outputs": [
    {
     "data": {
      "text/html": [
       "<div style=\"width:100%;\"><div style=\"position:relative;width:100%;height:0;padding-bottom:60%;\"><iframe src=\"data:text/html;charset=utf-8;base64,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\" style=\"position:absolute;width:100%;height:100%;left:0;top:0;border:none !important;\" allowfullscreen webkitallowfullscreen mozallowfullscreen></iframe></div></div>"
      ],
      "text/plain": [
       "<folium.folium.Map at 0x115316710>"
      ]
     },
     "execution_count": 14,
     "metadata": {},
     "output_type": "execute_result"
    }
   ],
   "source": [
    "folium_map"
   ]
  },
  {
   "cell_type": "code",
   "execution_count": 15,
   "metadata": {
    "collapsed": true
   },
   "outputs": [],
   "source": [
    "import selenium\n",
    "import consolidated_functions as cf"
   ]
  },
  {
   "cell_type": "code",
   "execution_count": 16,
   "metadata": {
    "collapsed": true
   },
   "outputs": [],
   "source": [
    "def interpolate(df1, df2, x):\n",
    "    \"\"\"return a weighted average of two dataframes\"\"\"\n",
    "    df = df1 * (1 - x) + df2 * x\n",
    "    return df.replace(np.nan, 0)\n",
    "  \n",
    "\n",
    "def get_trip_counts_by_minute(float_hour, data):\n",
    "    \"\"\"get an interpolated dataframe for any time, based\n",
    "    on hourly data\"\"\"\n",
    "    \n",
    "    columns = [\"start station latitude\",\n",
    "               \"start station longitude\",\n",
    "               \"Departure Count\",\n",
    "               \"Arrival Count\"]\n",
    "    df1 = cf.get_trip_counts_by_hour(int(float_hour), data)\n",
    "    df2 = cf.get_trip_counts_by_hour(int(float_hour) + 1, data)\n",
    "    \n",
    "    df = interpolate(df1.loc[:,columns], \n",
    "                     df2.loc[:,columns], \n",
    "                     float_hour % 1)\n",
    "    \n",
    "    df[\"start station name\"] = df1[\"start station name\"]\n",
    "    return df"
   ]
  },
  {
   "cell_type": "code",
   "execution_count": 17,
   "metadata": {
    "collapsed": true
   },
   "outputs": [],
   "source": [
    "data = get_trip_counts_by_minute(9.5, bike_data)\n",
    "#cf.plot_station_counts(data, zoom_start=14)"
   ]
  },
  {
   "cell_type": "code",
   "execution_count": 42,
   "metadata": {},
   "outputs": [
    {
     "data": {
      "text/html": [
       "<div style=\"width:100%;\"><div style=\"position:relative;width:100%;height:0;padding-bottom:60%;\"><iframe src=\"data:text/html;charset=utf-8;base64,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\" style=\"position:absolute;width:100%;height:100%;left:0;top:0;border:none !important;\" allowfullscreen webkitallowfullscreen mozallowfullscreen></iframe></div></div>"
      ],
      "text/plain": [
       "<folium.folium.Map at 0x1193ddda0>"
      ]
     },
     "execution_count": 42,
     "metadata": {},
     "output_type": "execute_result"
    }
   ],
   "source": [
    "cf.plot_station_counts(data, zoom_start=12)"
   ]
  },
  {
   "cell_type": "code",
   "execution_count": 43,
   "metadata": {
    "collapsed": true
   },
   "outputs": [],
   "source": [
    "def go_arrivals_frame(i, hour_of_day, save_path):\n",
    "    \n",
    "    # create the map object\n",
    "    data = get_trip_counts_by_minute(hour_of_day, bike_data)\n",
    "    my_frame = cf.plot_station_counts(data, zoom_start = 12)\n",
    "    \n",
    "    # generate the png file as a byte array\n",
    "    png = my_frame._to_png()\n",
    "    \n",
    "    #  now add a caption to the image to indicate the time-of-day.\n",
    "    hour = int(hour_of_day)\n",
    "    minutes = int((hour_of_day % 1) * 60)\n",
    "    \n",
    "    # create a PIL image object\n",
    "    image = Image.open(io.BytesIO(png))\n",
    "    draw = ImageDraw.ImageDraw(image)\n",
    "    \n",
    "    # load a font\n",
    "    font = ImageFont.truetype(\"Arial.ttf\", 30)\n",
    "    \n",
    "    # draw time of day text\n",
    "    draw.text((20,image.height - 50), \n",
    "              \"time: {:0>2}:{:0>2}h\".format(hour, minutes),\n",
    "              fill=(255, 255, 255), \n",
    "              font=font)\n",
    "    \n",
    "    # draw title\n",
    "    draw.text((image.width - 400,20), \n",
    "              \"Net Arrivals vs Time of Day\",\n",
    "              fill=(255, 255, 255), \n",
    "              font=font)\n",
    "    \n",
    "    # write to a png file\n",
    "    filename = os.path.join(save_path, \"frame_{:0>5}.png\".format(i))\n",
    "    image.save(filename, \"PNG\")\n",
    "    return image"
   ]
  },
  {
   "cell_type": "markdown",
   "metadata": {},
   "source": [
    "The io module provides the Python interfaces to stream handling. The builtin open() function is defined in this module. At the top of the I/O hierarchy is the abstract base class IOBase. It defines the basic interface to a stream."
   ]
  },
  {
   "cell_type": "code",
   "execution_count": 36,
   "metadata": {
    "collapsed": true
   },
   "outputs": [],
   "source": [
    "from PIL import Image\n",
    "from PIL import ImageDraw\n",
    "from PIL import ImageFont\n",
    "import io\n",
    "import os"
   ]
  },
  {
   "cell_type": "code",
   "execution_count": 44,
   "metadata": {},
   "outputs": [],
   "source": [
    "for i, hour in enumerate(np.arange(6, 7, .2)):\n",
    "    #print (i, hour)\n",
    "    go_arrivals_frame(i, hour, save_path=\"frames\")"
   ]
  },
  {
   "cell_type": "code",
   "execution_count": null,
   "metadata": {
    "collapsed": true
   },
   "outputs": [],
   "source": []
  }
 ],
 "metadata": {
  "kernelspec": {
   "display_name": "Python [conda env:anaconda]",
   "language": "python",
   "name": "conda-env-anaconda-py"
  },
  "language_info": {
   "codemirror_mode": {
    "name": "ipython",
    "version": 3
   },
   "file_extension": ".py",
   "mimetype": "text/x-python",
   "name": "python",
   "nbconvert_exporter": "python",
   "pygments_lexer": "ipython3",
   "version": "3.6.1"
  }
 },
 "nbformat": 4,
 "nbformat_minor": 2
}
